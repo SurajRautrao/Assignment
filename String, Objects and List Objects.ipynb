{
  "nbformat": 4,
  "nbformat_minor": 0,
  "metadata": {
    "colab": {
      "name": "Untitled4.ipynb",
      "provenance": []
    },
    "kernelspec": {
      "name": "python3",
      "display_name": "Python 3"
    },
    "language_info": {
      "name": "python"
    }
  },
  "cells": [
    {
      "cell_type": "code",
      "execution_count": 6,
      "metadata": {
        "colab": {
          "base_uri": "https://localhost:8080/"
        },
        "id": "S5vwZIbqAea9",
        "outputId": "1f2e8d3a-aa51-4d1c-8fa2-aae19e4984b2"
      },
      "outputs": [
        {
          "output_type": "stream",
          "name": "stdout",
          "text": [
            "*\n",
            "**\n",
            "***\n",
            "****\n",
            "*****\n",
            "****\n",
            "***\n",
            "**\n",
            "*\n"
          ]
        }
      ],
      "source": [
        "A=['*','**','***','****','*****','****','***','**','*']\n",
        "for i in A:\n",
        "  print(i)"
      ]
    },
    {
      "cell_type": "code",
      "source": [
        "I=input('Input word:')\n",
        "A = I[::-1]\n",
        "print(A)\n"
      ],
      "metadata": {
        "colab": {
          "base_uri": "https://localhost:8080/"
        },
        "id": "ACINW3OfEGqn",
        "outputId": "a9bff679-f72a-4c7e-bda6-b74a721057e2"
      },
      "execution_count": 57,
      "outputs": [
        {
          "output_type": "stream",
          "name": "stdout",
          "text": [
            "Input word:ineuron\n",
            "norueni\n"
          ]
        }
      ]
    }
  ]
}